{
 "cells": [
  {
   "cell_type": "markdown",
   "metadata": {},
   "source": [
    "# Parcial Python para Ciencia de datos"
   ]
  },
  {
   "cell_type": "markdown",
   "metadata": {},
   "source": [
    "## 1. Ejercicio de algoritmia:"
   ]
  },
  {
   "cell_type": "markdown",
   "metadata": {},
   "source": [
    "- Definimos una función para ordenar lexicograficamente la cadena:"
   ]
  },
  {
   "cell_type": "code",
   "execution_count": 7,
   "metadata": {},
   "outputs": [],
   "source": [
    "def ordenar_lexicograficamente(cadena):\n",
    "    #Definimos una lista\n",
    "    listaLetras=[]\n",
    "    #Definimos una variable en donde se va a guardar la nueva cadena\n",
    "    nuevaCadena=\"\"\n",
    "\n",
    "    #Recorro la cadena letra por letra y las guardo en la lista\n",
    "    for letra in cadena:\n",
    "        listaLetras.append(letra)\n",
    "\n",
    "    #Ordeno el array de manera ascendente\n",
    "    listaLetras.sort()\n",
    "\n",
    "    #Recorro el diccionario e itero las letras en la variable de nuevaCadena\n",
    "    for i in listaLetras:\n",
    "        nuevaCadena += i\n",
    "\n",
    "    #Retorno la nueva cadena\n",
    "    return nuevaCadena"
   ]
  },
  {
   "cell_type": "markdown",
   "metadata": {},
   "source": [
    "- Definimos otra función para comparar las cadenas segun su valor ASCII:"
   ]
  },
  {
   "cell_type": "code",
   "execution_count": 8,
   "metadata": {},
   "outputs": [],
   "source": [
    "def comparar_cadenas_lexicograficas(cadena1,cadena2):\n",
    "    #Ordeno la primera cadena\n",
    "    cadena1_ordenada = ordenar_lexicograficamente(cadena1)\n",
    "\n",
    "    #Ordeno la segunda cadena\n",
    "    cadena2_ordenada = ordenar_lexicograficamente(cadena2)\n",
    "\n",
    "    #Si la primera cadena es menor que la segunda cadena entonces retorna -1\n",
    "    if cadena1_ordenada < cadena2_ordenada:\n",
    "        return -1\n",
    "    \n",
    "    #Si la segunda cadena es menor que la primera cadena entonces retorna 1\n",
    "    if cadena2_ordenada < cadena1_ordenada:\n",
    "        return 1\n",
    "\n",
    "    #Retorno 0 ya que son iguales\n",
    "    return 0"
   ]
  },
  {
   "cell_type": "markdown",
   "metadata": {},
   "source": [
    "- Utilizamos la función para comparar las cadenas \"abc\" y \"abd\":"
   ]
  },
  {
   "cell_type": "code",
   "execution_count": 9,
   "metadata": {},
   "outputs": [
    {
     "name": "stdout",
     "output_type": "stream",
     "text": [
      "1\n"
     ]
    }
   ],
   "source": [
    "print(comparar_cadenas_lexicograficas(\"abc\",\"abd\"))"
   ]
  },
  {
   "cell_type": "markdown",
   "metadata": {},
   "source": [
    "## 2. Ejercicio de Pandas:"
   ]
  },
  {
   "cell_type": "markdown",
   "metadata": {},
   "source": [
    "- Importo la libreria de Pandas y Matplotlib:"
   ]
  },
  {
   "cell_type": "code",
   "execution_count": null,
   "metadata": {},
   "outputs": [],
   "source": [
    "import pandas as pd\n",
    "from matplotlib import pyplot"
   ]
  },
  {
   "cell_type": "markdown",
   "metadata": {},
   "source": [
    "- Guardamos las ventas mensuales:"
   ]
  },
  {
   "cell_type": "code",
   "execution_count": null,
   "metadata": {},
   "outputs": [],
   "source": [
    "ventas_mensuales = [\n",
    "{\"mes\": \"Enero\", \"total_ventas\": 15000, \"año\": 2023},\n",
    "{\"mes\": \"Febrero\", \"total_ventas\": 18000, \"año\": 2023},\n",
    "{\"mes\": \"Marzo\", \"total_ventas\": 22000, \"año\": 2023},\n",
    "{\"mes\": \"Abril\", \"total_ventas\": 19000, \"año\": 2023},\n",
    "{\"mes\": \"Mayo\", \"total_ventas\": 25000, \"año\": 2023},\n",
    "{\"mes\": \"Junio\", \"total_ventas\": 28000, \"año\": 2023},\n",
    "{\"mes\": \"Julio\", \"total_ventas\": 32000, \"año\": 2023},\n",
    "{\"mes\": \"Agosto\", \"total_ventas\": 30000, \"año\": 2023},\n",
    "{\"mes\": \"Septiembre\", \"total_ventas\": 28000, \"año\": 2023},\n",
    "{\"mes\": \"Octubre\", \"total_ventas\": 31000, \"año\": 2023},\n",
    "{\"mes\": \"Noviembre\", \"total_ventas\": 33000, \"año\": 2023},\n",
    "{\"mes\": \"Diciembre\", \"total_ventas\": 36000, \"año\": 2023},\n",
    "{\"mes\": \"Enero 2\", \"total_ventas\": 37000, \"año\": 2024},\n",
    "{\"mes\": \"Febrero 2\", \"total_ventas\": 38000, \"año\": 2024},\n",
    "{\"mes\": \"Marzo 2\", \"total_ventas\": 42000, \"año\": 2024},\n",
    "{\"mes\": \"Abril 2\", \"total_ventas\": 39000, \"año\": 2024},\n",
    "{\"mes\": \"Mayo 2\", \"total_ventas\": 45000, \"año\": 2024},\n",
    "{\"mes\": \"Junio 2\", \"total_ventas\": 48000, \"año\": 2024},\n",
    "{\"mes\": \"Julio 2\", \"total_ventas\": 52000, \"año\": 2024},\n",
    "{\"mes\": \"Agosto 2\", \"total_ventas\": 50000, \"año\": 2024},\n",
    "{\"mes\": \"Septiembre 2\", \"total_ventas\": 48000, \"año\": 2024},\n",
    "{\"mes\": \"Octubre 2\", \"total_ventas\": 51000, \"año\": 2024},\n",
    "{\"mes\": \"Noviembre 2\", \"total_ventas\": 55000, \"año\": 2024},\n",
    "{\"mes\": \"Diciembre 2\", \"total_ventas\": 58000, \"año\": 2024},\n",
    "]"
   ]
  },
  {
   "cell_type": "markdown",
   "metadata": {},
   "source": [
    "- Creamos un DataFrame con las ventas mensuales:"
   ]
  },
  {
   "cell_type": "code",
   "execution_count": null,
   "metadata": {},
   "outputs": [],
   "source": [
    "df = pd.DataFrame(ventas_mensuales)"
   ]
  },
  {
   "cell_type": "markdown",
   "metadata": {},
   "source": [
    "- Sacamos el promedio de las ventas y lo mostramos en pantalla:"
   ]
  },
  {
   "cell_type": "code",
   "execution_count": null,
   "metadata": {},
   "outputs": [],
   "source": [
    "print(df[\"total_ventas\"].mean())"
   ]
  },
  {
   "cell_type": "markdown",
   "metadata": {},
   "source": [
    "## 4. Ejercicio de Gráficos:"
   ]
  },
  {
   "cell_type": "markdown",
   "metadata": {},
   "source": [
    "- Definimos el gráficos utilizando como valor independiente los meses y valor dependiente el total de ventas:"
   ]
  },
  {
   "cell_type": "code",
   "execution_count": null,
   "metadata": {},
   "outputs": [],
   "source": [
    "pyplot.plot(df[\"mes\"], df[\"total_ventas\"])"
   ]
  },
  {
   "cell_type": "markdown",
   "metadata": {},
   "source": [
    "- Mostramos el gráfico en pantalla:"
   ]
  },
  {
   "cell_type": "code",
   "execution_count": null,
   "metadata": {},
   "outputs": [],
   "source": [
    "pyplot.show()"
   ]
  }
 ],
 "metadata": {
  "kernelspec": {
   "display_name": "venv",
   "language": "python",
   "name": "python3"
  },
  "language_info": {
   "codemirror_mode": {
    "name": "ipython",
    "version": 3
   },
   "file_extension": ".py",
   "mimetype": "text/x-python",
   "name": "python",
   "nbconvert_exporter": "python",
   "pygments_lexer": "ipython3",
   "version": "3.12.2"
  }
 },
 "nbformat": 4,
 "nbformat_minor": 2
}
